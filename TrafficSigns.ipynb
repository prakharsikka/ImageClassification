{
 "cells": [
  {
   "cell_type": "code",
   "execution_count": 1,
   "id": "16e197b7",
   "metadata": {},
   "outputs": [],
   "source": [
    "import os\n",
    "import numpy as np\n",
    "import pandas as pd\n",
    "import matplotlib.pyplot as plt\n",
    "from PIL import Image\n",
    "import tensorflow as tf\n",
    "from keras.layers import Conv2D, Dense, Flatten, MaxPool2D, Dropout"
   ]
  },
  {
   "cell_type": "code",
   "execution_count": 2,
   "id": "31bab321",
   "metadata": {},
   "outputs": [],
   "source": [
    "from tensorflow.keras.utils import to_categorical"
   ]
  },
  {
   "cell_type": "markdown",
   "id": "b777e119",
   "metadata": {},
   "source": [
    "- list1:  all the images in a single list in form of an array that will describe the pixels of the image\n",
    "- list2: labels of the corresponding image"
   ]
  },
  {
   "cell_type": "markdown",
   "id": "b5a74f84",
   "metadata": {},
   "source": [
    "## To feed image data to the model we need to convert the pixels into an array"
   ]
  },
  {
   "cell_type": "code",
   "execution_count": 11,
   "id": "921fe1ff",
   "metadata": {},
   "outputs": [
    {
     "name": "stdout",
     "output_type": "stream",
     "text": [
      "success\n"
     ]
    }
   ],
   "source": [
    "imgs_path = \"img_class/Train\"\n",
    "data = []\n",
    "labels = []\n",
    "classes = 43\n",
    "for i in range(classes):\n",
    "    img_path = os.path.join(imgs_path, str(i)) #0-42\n",
    "    #print(img_path) \n",
    "    for img in os.listdir(img_path):\n",
    "        #print(img)\n",
    "        im = Image.open(img_path + '/' + img)\n",
    "        im = im.resize((30,30))\n",
    "        im = np.array(im)\n",
    "        data.append(im)\n",
    "        labels.append(i)\n",
    "data = np.array(data)\n",
    "labels = np.array(labels)\n",
    "print(\"success\")"
   ]
  },
  {
   "cell_type": "code",
   "execution_count": 5,
   "id": "941e6d9a",
   "metadata": {
    "scrolled": true
   },
   "outputs": [
    {
     "data": {
      "image/png": "[encoded data removed]",
      "text/plain": [
       "<Figure size 432x288 with 1 Axes>"
      ]
     },
     "metadata": {
      "needs_background": "light"
     },
     "output_type": "display_data"
    }
   ],
   "source": [
    "path = \"img_class/Train/0/00000_00004_00029.png\"\n",
    "img = Image.open(path)\n",
    "img = img.resize((30, 30))\n",
    "sr = np.array(img) \n",
    "plt.imshow(img)\n",
    "plt.show()"
   ]
  },
  {
   "cell_type": "markdown",
   "id": "f66e2cb4",
   "metadata": {},
   "source": [
    "The dataset is now loaded and converted into numpy array"
   ]
  },
  {
   "cell_type": "markdown",
   "id": "34e20aa7",
   "metadata": {},
   "source": [
    "## Train-Test Split on the data"
   ]
  },
  {
   "cell_type": "code",
   "execution_count": 7,
   "id": "cd74e2fe",
   "metadata": {},
   "outputs": [
    {
     "name": "stdout",
     "output_type": "stream",
     "text": [
      "training shape:  (31367, 30, 30, 3) (31367,)\n",
      "testing shape:  (7842, 30, 30, 3) (7842,)\n"
     ]
    }
   ],
   "source": [
    "from sklearn.model_selection import train_test_split\n",
    "x_train, x_test, y_train, y_test = train_test_split(data, labels, test_size=0.2, random_state=42)\n",
    "print(\"training shape: \",x_train.shape, y_train.shape)\n",
    "print(\"testing shape: \",x_test.shape, y_test.shape)\n",
    "y_train = to_categorical(y_train, 43)\n",
    "y_test = to_categorical(y_test, 43)"
   ]
  },
  {
   "cell_type": "markdown",
   "id": "771923e4",
   "metadata": {},
   "source": [
    "## Creating a model using Convolutional Nueral Network"
   ]
  },
  {
   "cell_type": "code",
   "execution_count": 8,
   "id": "dec899ad",
   "metadata": {},
   "outputs": [
    {
     "name": "stdout",
     "output_type": "stream",
     "text": [
      "Metal device set to: Apple M1\n"
     ]
    },
    {
     "name": "stderr",
     "output_type": "stream",
     "text": [
      "2023-04-08 15:05:19.505764: I tensorflow/core/platform/cpu_feature_guard.cc:151] This TensorFlow binary is optimized with oneAPI Deep Neural Network Library (oneDNN) to use the following CPU instructions in performance-critical operations:  SSE4.2\n",
      "To enable them in other operations, rebuild TensorFlow with the appropriate compiler flags.\n",
      "2023-04-08 15:05:19.508466: I tensorflow/core/common_runtime/pluggable_device/pluggable_device_factory.cc:305] Could not identify NUMA node of platform GPU ID 0, defaulting to 0. Your kernel may not have been built with NUMA support.\n",
      "2023-04-08 15:05:19.509911: I tensorflow/core/common_runtime/pluggable_device/pluggable_device_factory.cc:271] Created TensorFlow device (/job:localhost/replica:0/task:0/device:GPU:0 with 0 MB memory) -> physical PluggableDevice (device: 0, name: METAL, pci bus id: <undefined>)\n"
     ]
    }
   ],
   "source": [
    "model = tf.keras.Sequential()\n",
    "model.add(Conv2D(filters=32, kernel_size=(5,5), activation=\"relu\", input_shape=x_train.shape[1:]))\n",
    "model.add(Conv2D(filters=32, kernel_size=(5,5), activation=\"relu\"))\n",
    "model.add(MaxPool2D(pool_size=(2,2)))\n",
    "model.add(Dropout(rate=0.25))\n",
    "model.add(Conv2D(filters=64, kernel_size=(3,3), activation=\"relu\"))\n",
    "model.add(Conv2D(filters=64, kernel_size=(3,3), activation=\"relu\"))\n",
    "model.add(MaxPool2D(pool_size=(2,2)))\n",
    "model.add(Dropout(rate=0.25))\n",
    "model.add(Flatten())\n",
    "model.add(Dense(256, activation=\"relu\"))\n",
    "model.add(Dropout(rate=0.5))\n",
    "model.add(Dense(43, activation=\"softmax\"))"
   ]
  },
  {
   "cell_type": "markdown",
   "id": "53a60596",
   "metadata": {},
   "source": [
    "- We use 2 nets with 32 filters and 2 nets with 64 filters\n",
    "- We use relu activation functions for the all the nets and use a softmax activation for the last net\n"
   ]
  },
  {
   "cell_type": "markdown",
   "id": "2e2f17f9",
   "metadata": {},
   "source": [
    "## Compiling the model and fitting on the data"
   ]
  },
  {
   "cell_type": "code",
   "execution_count": 9,
   "id": "92be8e08",
   "metadata": {},
   "outputs": [],
   "source": [
    "model.compile(loss=\"categorical_crossentropy\", optimizer=\"adam\", metrics=[\"accuracy\"])"
   ]
  },
  {
   "cell_type": "code",
   "execution_count": 10,
   "id": "342dbfad",
   "metadata": {},
   "outputs": [
    {
     "name": "stdout",
     "output_type": "stream",
     "text": [
      "Epoch 1/15\n"
     ]
    },
    {
     "name": "stderr",
     "output_type": "stream",
     "text": [
      "2023-04-08 15:05:20.160354: I tensorflow/core/grappler/optimizers/custom_graph_optimizer_registry.cc:113] Plugin optimizer for device_type GPU is enabled.\n"
     ]
    },
    {
     "name": "stdout",
     "output_type": "stream",
     "text": [
      "491/491 [==============================] - ETA: 0s - loss: 2.5138 - accuracy: 0.3914"
     ]
    },
    {
     "name": "stderr",
     "output_type": "stream",
     "text": [
      "2023-04-08 15:05:33.152327: I tensorflow/core/grappler/optimizers/custom_graph_optimizer_registry.cc:113] Plugin optimizer for device_type GPU is enabled.\n"
     ]
    },
    {
     "name": "stdout",
     "output_type": "stream",
     "text": [
      "491/491 [==============================] - 15s 28ms/step - loss: 2.5138 - accuracy: 0.3914 - val_loss: 0.9190 - val_accuracy: 0.7665\n",
      "Epoch 2/15\n",
      "491/491 [==============================] - 13s 27ms/step - loss: 1.0772 - accuracy: 0.6831 - val_loss: 0.4887 - val_accuracy: 0.8753\n",
      "Epoch 3/15\n",
      "491/491 [==============================] - 14s 28ms/step - loss: 0.7384 - accuracy: 0.7841 - val_loss: 0.2975 - val_accuracy: 0.9230\n",
      "Epoch 4/15\n",
      "491/491 [==============================] - 14s 28ms/step - loss: 0.5381 - accuracy: 0.8426 - val_loss: 0.2338 - val_accuracy: 0.9337\n",
      "Epoch 5/15\n",
      "491/491 [==============================] - 13s 27ms/step - loss: 0.4238 - accuracy: 0.8749 - val_loss: 0.1520 - val_accuracy: 0.9552\n",
      "Epoch 6/15\n",
      "491/491 [==============================] - 13s 27ms/step - loss: 0.3689 - accuracy: 0.8887 - val_loss: 0.1162 - val_accuracy: 0.9671\n",
      "Epoch 7/15\n",
      "491/491 [==============================] - 14s 28ms/step - loss: 0.3125 - accuracy: 0.9073 - val_loss: 0.0873 - val_accuracy: 0.9745\n",
      "Epoch 8/15\n",
      "491/491 [==============================] - 14s 28ms/step - loss: 0.2817 - accuracy: 0.9175 - val_loss: 0.0839 - val_accuracy: 0.9781\n",
      "Epoch 9/15\n",
      "491/491 [==============================] - 13s 27ms/step - loss: 0.2850 - accuracy: 0.9162 - val_loss: 0.0848 - val_accuracy: 0.9777\n",
      "Epoch 10/15\n",
      "491/491 [==============================] - 13s 27ms/step - loss: 0.3148 - accuracy: 0.9077 - val_loss: 0.0808 - val_accuracy: 0.9762\n",
      "Epoch 11/15\n",
      "491/491 [==============================] - 14s 28ms/step - loss: 0.2262 - accuracy: 0.9326 - val_loss: 0.0794 - val_accuracy: 0.9778\n",
      "Epoch 12/15\n",
      "491/491 [==============================] - 13s 27ms/step - loss: 0.2222 - accuracy: 0.9343 - val_loss: 0.0646 - val_accuracy: 0.9816\n",
      "Epoch 13/15\n",
      "491/491 [==============================] - 13s 27ms/step - loss: 0.2045 - accuracy: 0.9407 - val_loss: 0.0614 - val_accuracy: 0.9844\n",
      "Epoch 14/15\n",
      "491/491 [==============================] - 13s 27ms/step - loss: 0.2090 - accuracy: 0.9398 - val_loss: 0.0621 - val_accuracy: 0.9825\n",
      "Epoch 15/15\n",
      "491/491 [==============================] - 13s 27ms/step - loss: 0.2028 - accuracy: 0.9410 - val_loss: 0.0633 - val_accuracy: 0.9837\n"
     ]
    }
   ],
   "source": [
    "epochs = 15\n",
    "history = model.fit(x_train, y_train, epochs=epochs, batch_size=64, validation_data=(x_test, y_test))"
   ]
  },
  {
   "cell_type": "markdown",
   "id": "5b8196f7",
   "metadata": {},
   "source": [
    "## Plotting the Accuracy & loss curve with each iteration"
   ]
  },
  {
   "cell_type": "code",
   "execution_count": 11,
   "id": "35ba2263",
   "metadata": {
    "scrolled": true
   },
   "outputs": [
    {
     "data": {
      "image/png": "[encoded data removed]",
      "text/plain": [
       "<Figure size 432x288 with 1 Axes>"
      ]
     },
     "metadata": {
      "needs_background": "light"
     },
     "output_type": "display_data"
    },
    {
     "data": {
      "image/png": "[encoded data removed]",
      "text/plain": [
       "<Figure size 432x288 with 1 Axes>"
      ]
     },
     "metadata": {
      "needs_background": "light"
     },
     "output_type": "display_data"
    }
   ],
   "source": [
    "plt.figure(0)\n",
    "plt.plot(history.history['accuracy'], label=\"Training accuracy\")\n",
    "plt.plot(history.history['val_accuracy'], label=\"val accuracy\")\n",
    "plt.title(\"Accuracy\")\n",
    "plt.xlabel(\"epochs\")\n",
    "plt.ylabel(\"accuracy\")\n",
    "plt.legend()\n",
    "plt.figure(1)\n",
    "plt.plot(history.history['loss'], label=\"training loss\")\n",
    "plt.plot(history.history['val_loss'], label=\"val loss\")\n",
    "plt.title(\"Loss\")\n",
    "plt.xlabel(\"epochs\")\n",
    "plt.ylabel(\"Loss\")\n",
    "plt.legend()\n",
    "plt.show()"
   ]
  },
  {
   "cell_type": "markdown",
   "id": "6ba6bcde",
   "metadata": {},
   "source": [
    "## Computing the accuracy score"
   ]
  },
  {
   "cell_type": "code",
   "execution_count": 27,
   "id": "38d138ac",
   "metadata": {},
   "outputs": [
    {
     "name": "stdout",
     "output_type": "stream",
     "text": [
      "[16  1 38 ...  6  7 10]\n",
      "accuracy:  0.9536025336500396\n"
     ]
    }
   ],
   "source": [
    "from sklearn.metrics import accuracy_score\n",
    "test = pd.read_csv(\"img_class/Test.csv\")\n",
    "test_labels = test.ClassId.values\n",
    "test_img_path = \"img_class\"\n",
    "test_imgs = test['Path'].values\n",
    "test_data = []\n",
    "#test_labels = []\n",
    "for img in test_imgs:\n",
    "    im = Image.open(test_img_path + '/' + img)\n",
    "    im = im.resize((30,30))\n",
    "    im = np.array(im)\n",
    "    test_data.append(im)\n",
    "test_data = np.array(test_data)\n",
    "print(test_labels)\n",
    "predict_x=model.predict(test_data) \n",
    "classes_x=np.argmax(predict_x,axis=1)\n",
    "#predictions = model.predict_classes(test_data)\n",
    "print(\"accuracy: \", accuracy_score(test_labels, classes_x))"
   ]
  },
  {
   "cell_type": "markdown",
   "id": "06d297cf",
   "metadata": {},
   "source": [
    "## Saving the model"
   ]
  },
  {
   "cell_type": "code",
   "execution_count": 13,
   "id": "f83f4021",
   "metadata": {},
   "outputs": [],
   "source": [
    "model.save('traffic_classifier.h5')"
   ]
  },
  {
   "cell_type": "markdown",
   "id": "59f35738",
   "metadata": {},
   "source": [
    "## Loading the model and defining classes"
   ]
  },
  {
   "cell_type": "code",
   "execution_count": 3,
   "id": "cba1dec2",
   "metadata": {},
   "outputs": [
    {
     "name": "stdout",
     "output_type": "stream",
     "text": [
      "Metal device set to: Apple M1\n"
     ]
    },
    {
     "name": "stderr",
     "output_type": "stream",
     "text": [
      "2023-04-13 13:58:52.880506: I tensorflow/core/platform/cpu_feature_guard.cc:151] This TensorFlow binary is optimized with oneAPI Deep Neural Network Library (oneDNN) to use the following CPU instructions in performance-critical operations:  SSE4.2\n",
      "To enable them in other operations, rebuild TensorFlow with the appropriate compiler flags.\n",
      "2023-04-13 13:58:52.882941: I tensorflow/core/common_runtime/pluggable_device/pluggable_device_factory.cc:305] Could not identify NUMA node of platform GPU ID 0, defaulting to 0. Your kernel may not have been built with NUMA support.\n",
      "2023-04-13 13:58:52.884644: I tensorflow/core/common_runtime/pluggable_device/pluggable_device_factory.cc:271] Created TensorFlow device (/job:localhost/replica:0/task:0/device:GPU:0 with 0 MB memory) -> physical PluggableDevice (device: 0, name: METAL, pci bus id: <undefined>)\n"
     ]
    }
   ],
   "source": [
    "from keras.models import load_model\n",
    "model = load_model('traffic_classifier.h5')\n",
    "#dictionary to label all traffic signs class.\n",
    "classes = { 1:'Speed limit (20km/h)',\n",
    "            2:'Speed limit (30km/h)',\n",
    "            3:'Speed limit (50km/h)',\n",
    "            4:'Speed limit (60km/h)',\n",
    "            5:'Speed limit (70km/h)',\n",
    "            6:'Speed limit (80km/h)',\n",
    "            7:'End of speed limit (80km/h)',\n",
    "            8:'Speed limit (100km/h)',\n",
    "            9:'Speed limit (120km/h)',\n",
    "            10:'No passing',\n",
    "            11:'No passing veh over 3.5 tons',\n",
    "            12:'Right-of-way at intersection',\n",
    "            13:'Priority road',\n",
    "            14:'Yield',\n",
    "            15:'Stop',\n",
    "            16:'No vehicles',\n",
    "            17:'Veh > 3.5 tons prohibited',\n",
    "            18:'No entry',\n",
    "            19:'General caution',\n",
    "            20:'Dangerous curve left',\n",
    "            21:'Dangerous curve right',\n",
    "            22:'Double curve',\n",
    "            23:'Bumpy road',\n",
    "            24:'Slippery road',\n",
    "            25:'Road narrows on the right',\n",
    "            26:'Road work',\n",
    "            27:'Traffic signals',\n",
    "            28:'Pedestrians',\n",
    "            29:'Children crossing',\n",
    "            30:'Bicycles crossing',\n",
    "            31:'Beware of ice/snow',\n",
    "            32:'Wild animals crossing',\n",
    "            33:'End speed + passing limits',\n",
    "            34:'Turn right ahead',\n",
    "            35:'Turn left ahead',\n",
    "            36:'Ahead only',\n",
    "            37:'Go straight or right',\n",
    "            38:'Go straight or left',\n",
    "            39:'Keep right',\n",
    "            40:'Keep left',\n",
    "            41:'Roundabout mandatory',\n",
    "            42:'End of no passing',\n",
    "            43:'End no passing veh > 3.5 tons' }\n",
    "\n"
   ]
  },
  {
   "cell_type": "markdown",
   "id": "9da96ed6",
   "metadata": {},
   "source": [
    "## Classifying the image"
   ]
  },
  {
   "cell_type": "code",
   "execution_count": 6,
   "id": "a58b5c52",
   "metadata": {},
   "outputs": [],
   "source": [
    "def classify(file_path):\n",
    "    global label_packed\n",
    "    image = Image.open(file_path)\n",
    "    image = image.resize((30,30))\n",
    "    image = np.expand_dims(image, axis=0)\n",
    "    image = np.array(image)\n",
    "    predict_x=model.predict(image) \n",
    "    classes_x=np.argmax(predict_x,axis=1)\n",
    "    classes_x = classes_x[0]\n",
    "    sign = classes[classes_x+1]\n",
    "    print(sign)"
   ]
  },
  {
   "cell_type": "code",
   "execution_count": 8,
   "id": "50ea575c",
   "metadata": {},
   "outputs": [
    {
     "data": {
      "image/png": "[encoded data removed]",
      "text/plain": [
       "<Figure size 432x288 with 1 Axes>"
      ]
     },
     "metadata": {
      "needs_background": "light"
     },
     "output_type": "display_data"
    }
   ],
   "source": [
    "path = \"img_class/Test/00001.png\"\n",
    "img = Image.open(path)\n",
    "img = img.resize((30, 30))\n",
    "sr = np.array(img) \n",
    "plt.imshow(img)\n",
    "plt.show()"
   ]
  },
  {
   "cell_type": "code",
   "execution_count": 9,
   "id": "74cfc9cd",
   "metadata": {},
   "outputs": [
    {
     "name": "stdout",
     "output_type": "stream",
     "text": [
      "Speed limit (30km/h)\n"
     ]
    }
   ],
   "source": [
    "classify('img_class/Test/00001.png')"
   ]
  }
 ],
 "metadata": {
  "kernelspec": {
   "display_name": "Python 3 (ipykernel)",
   "language": "python",
   "name": "python3"
  },
  "language_info": {
   "codemirror_mode": {
    "name": "ipython",
    "version": 3
   },
   "file_extension": ".py",
   "mimetype": "text/x-python",
   "name": "python",
   "nbconvert_exporter": "python",
   "pygments_lexer": "ipython3",
   "version": "3.8.0"
  }
 },
 "nbformat": 4,
 "nbformat_minor": 5
}
